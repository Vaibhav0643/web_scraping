{
 "cells": [
  {
   "cell_type": "markdown",
   "metadata": {},
   "source": [
    "    Categories and Products"
   ]
  },
  {
   "cell_type": "code",
   "execution_count": 43,
   "metadata": {},
   "outputs": [
    {
     "name": "stdout",
     "output_type": "stream",
     "text": [
      "Hello\n"
     ]
    }
   ],
   "source": [
    "import requests\n",
    "from bs4 import BeautifulSoup\n",
    "print(\"Hello\")"
   ]
  },
  {
   "cell_type": "code",
   "execution_count": null,
   "metadata": {},
   "outputs": [],
   "source": [
    "url = \"https://www.haberkorn.com/at/de\"\n",
    "r = requests.get(url)\n",
    "print(r)\n",
    "# print(r.text)\n",
    "soup = BeautifulSoup(r.text)\n",
    "# print(soup.prettify())"
   ]
  },
  {
   "cell_type": "code",
   "execution_count": 26,
   "metadata": {},
   "outputs": [],
   "source": [
    "with open(\"amazon.html\",\"w\",encoding=\"utf-8\") as f:\n",
    "    f.write(r.text)"
   ]
  },
  {
   "cell_type": "code",
   "execution_count": null,
   "metadata": {},
   "outputs": [],
   "source": [
    "soup = BeautifulSoup(r.text)\n",
    "print(soup.prettify())\n",
    "# soup.h1"
   ]
  },
  {
   "cell_type": "code",
   "execution_count": null,
   "metadata": {},
   "outputs": [],
   "source": [
    "soup = BeautifulSoup(\"<p>Some<b>bad<i>HTML\")\n",
    "soup\n",
    "# print(soup.prettify())\n",
    "\n",
    "help(BeautifulSoup)"
   ]
  },
  {
   "cell_type": "code",
   "execution_count": null,
   "metadata": {},
   "outputs": [],
   "source": [
    "import requests\n",
    "from bs4 import BeautifulSoup\n",
    " \n",
    "url = 'https://www.haberkorn.com/at/de'\n",
    " \n",
    "response = requests.get(url)\n",
    "if response.status_code == 200:\n",
    "    soup = BeautifulSoup(response.content, 'html.parser')\n",
    "\n",
    "# response.content\n",
    "# soup\n",
    "# print(soup.text) \n",
    "\n",
    "    category_menu = soup.find(class_='category-menu row')\n",
    "    # link_to_next=category_menu.find_all('a')\n",
    "    # for link in link_to_next:\n",
    "    #     href = link.get('href')  # Get the href attribute\n",
    "    #     print(href)\n",
    "\n",
    "    elements = category_menu.find_all(class_ = \"h4 level-text\")\n",
    "    for element in elements:\n",
    "        print(element.text)\n",
    "else:\n",
    "    print(f\"Failed to retrieve the webpage. Status code: {response.status_code}\")\n",
    " \n",
    "\n",
    "\n",
    "# print(type(elements))"
   ]
  },
  {
   "cell_type": "code",
   "execution_count": null,
   "metadata": {},
   "outputs": [],
   "source": [
    "#Sub Categories\n",
    "\n",
    "url = \"https://www.haberkorn.com/at/de/baubedarf\"\n",
    "response = requests.get(url)\n",
    "if response.status_code ==200:\n",
    "    soup = BeautifulSoup(response.content , 'html.parser')\n",
    "\n",
    "    sub_category_menu = soup.find(class_ = 'container pt-0')\n",
    "    # print(sub_category_menu)\n",
    "    elements = sub_category_menu.find_all(class_ = 'h4')\n",
    "    for element in elements:\n",
    "        print(element.text)\n",
    "else:\n",
    "    print(f\"Failed to retrieve the webpage. Status code: {response.status_code}\")\n",
    "\n",
    "\n",
    "\n",
    "\n",
    "\n"
   ]
  },
  {
   "cell_type": "code",
   "execution_count": 94,
   "metadata": {},
   "outputs": [
    {
     "name": "stdout",
     "output_type": "stream",
     "text": [
      "/at/de/arbeitsschutz\n",
      "/at/de/automotive\n",
      "/at/de/baubedarf\n",
      "/at/de/baubeschlaege-moebelbeschlaege\n",
      "/at/de/chemisch-technische-produkte\n",
      "/at/de/dichtungstechnik-kunststoffe\n",
      "/at/de/elektrik-heisslufttechnik\n",
      "/at/de/hydraulikschlaeuche-hydraulikverschraubungen\n",
      "/at/de/hydrauliksysteme-hydraulikkomponenten\n",
      "/at/de/item-profilsysteme\n",
      "/at/de/maschinenelemente\n",
      "/at/de/pneumatik\n",
      "/at/de/schlaeuche-armaturen\n",
      "/at/de/schmierstoffe-kfz-bedarf\n",
      "/at/de/schweisstechnik\n",
      "/at/de/verbindungselemente-schrauben\n",
      "/at/de/werkstatteinrichtungen-betriebseinrichtungen\n",
      "/at/de/werkzeuge-maschinen\n"
     ]
    }
   ],
   "source": [
    "import requests\n",
    "from bs4 import BeautifulSoup\n",
    " \n",
    "url = 'https://www.haberkorn.com/at/de'\n",
    " \n",
    "response = requests.get(url)\n",
    "if response.status_code == 200:\n",
    "    soup = BeautifulSoup(response.content, 'html.parser')\n",
    "\n",
    "    category_menu = soup.find(class_='category-menu row')\n",
    "\n",
    "    link_to_next=category_menu.find_all('a')\n",
    "    for link in link_to_next:\n",
    "        href = link.get('href')  # Get the href attribute\n",
    "        print(href)\n",
    "\n",
    "\n",
    "\n",
    "    # elements = category_menu.find_all(class_ = 'h4 level-text')\n",
    "    # for element in elements:\n",
    "    #     print(element.text)"
   ]
  },
  {
   "cell_type": "code",
   "execution_count": null,
   "metadata": {},
   "outputs": [],
   "source": [
    "import requests\n",
    "from bs4 import BeautifulSoup\n",
    "\n",
    "base_url = 'https://www.haberkorn.com'\n",
    "url = f'{base_url}/at/de'\n",
    "\n",
    "response = requests.get(url)\n",
    "if response.status_code == 200:\n",
    "    soup = BeautifulSoup(response.content, 'html.parser')\n",
    "    category_menu = soup.find(class_='category-menu row')\n",
    "\n",
    "    if category_menu:\n",
    "        # Find all category links\n",
    "        category_links = category_menu.find_all('a')\n",
    "        i=1\n",
    "        for category_link in category_links:\n",
    "            category_href = category_link.get('href')\n",
    "            category_url = f'{base_url}{category_href}'\n",
    "            print(f\"{i}.Category Name : {category_link.text.strip().upper()}\")\n",
    "            print(f\"Category URL: {category_url}\")\n",
    "\n",
    "            # Now, make a request to the category page\n",
    "            category_response = requests.get(category_url)\n",
    "            if category_response.status_code == 200:\n",
    "                category_soup = BeautifulSoup(category_response.content, 'html.parser')\n",
    "\n",
    "                # Find subcategories within the category page\n",
    "                subcategory_menu = category_soup.find(class_='container pt-0')  # Adjust this based on actual structure\n",
    "                # if subcategory_menu:\n",
    "                #     elements = subcategory_menu.find_all(class_ = 'h4')\n",
    "                #     for element in elements:\n",
    "                #         print(element.text)\n",
    "                # else:\n",
    "                #     print(\"  No subcategories found.\")\n",
    "\n",
    "\n",
    "#------------------------------------------------------------------------------------\n",
    "# Sub-Sub Categories\n",
    "                subcategory_links = category_soup.find_all('a')\n",
    "                for subcategory_link in subcategory_links:\n",
    "                    subcategory_href = subcategory_link.get('href')\n",
    "                    subcategroy_url = f'{base_url}{subcategory_href}'\n",
    "                    print(f\"{i}. Sub-Category Name : {subcategory_link.text.strip().upper()}\")\n",
    "                    print(f\"Sub-Category URL: {category_url}\")\n",
    "\n",
    "\n",
    "                    sub_category_response = requests.get(subcategroy_url)\n",
    "                    if sub_category_response.status_code == 200:\n",
    "                        sub_category_soup = BeautifulSoup(sub_category_response.content, 'html.parser')\n",
    "                    \n",
    "                    sub_subcategory_menu = sub_category_soup.find(class_='container pt-0')  # Adjust this based on actual structure\n",
    "                    if sub_subcategory_menu:\n",
    "                        elements = sub_subcategory_menu.find_all(class_ = 'h4')\n",
    "                        for element in elements:\n",
    "                            print(element.text)\n",
    "                    else:\n",
    "                        print(\"  No Sub-subcategories found.\")\n",
    "\n",
    "\n",
    "\n",
    "\n",
    "            else:\n",
    "                print(f\"Failed to retrieve the category page. Status code: {category_response.status_code}\")\n",
    "                i=i+1\n",
    "            print()\n",
    "else:\n",
    "    print(f\"Failed to retrieve the main page. Status code: {response.status_code}\")\n"
   ]
  },
  {
   "cell_type": "code",
   "execution_count": null,
   "metadata": {},
   "outputs": [],
   "source": []
  }
 ],
 "metadata": {
  "kernelspec": {
   "display_name": "Python 3",
   "language": "python",
   "name": "python3"
  },
  "language_info": {
   "codemirror_mode": {
    "name": "ipython",
    "version": 3
   },
   "file_extension": ".py",
   "mimetype": "text/x-python",
   "name": "python",
   "nbconvert_exporter": "python",
   "pygments_lexer": "ipython3",
   "version": "3.12.4"
  }
 },
 "nbformat": 4,
 "nbformat_minor": 2
}
